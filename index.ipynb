{
 "metadata": {
  "language_info": {
   "codemirror_mode": {
    "name": "ipython",
    "version": 3
   },
   "file_extension": ".py",
   "mimetype": "text/x-python",
   "name": "python",
   "nbconvert_exporter": "python",
   "pygments_lexer": "ipython3",
   "version": "3.8.5-final"
  },
  "orig_nbformat": 2,
  "kernelspec": {
   "name": "Python 3.8.5 64-bit",
   "display_name": "Python 3.8.5 64-bit",
   "metadata": {
    "interpreter": {
     "hash": "2db524e06e9f5f4ffedc911c917cb75e12dbc923643829bf417064a77eb14d37"
    }
   }
  }
 },
 "nbformat": 4,
 "nbformat_minor": 2,
 "cells": [
  {
   "source": [
    "\n",
    "# reddit-wiki-ripper\n",
    "by Jam#0001"
   ],
   "cell_type": "markdown",
   "metadata": {}
  },
  {
   "source": [
    "First things first, install the required packages:"
   ],
   "cell_type": "markdown",
   "metadata": {}
  },
  {
   "cell_type": "code",
   "execution_count": null,
   "metadata": {},
   "outputs": [],
   "source": [
    "!pip3 install praw regex\n"
   ]
  },
  {
   "source": [
    "Go to the [reddit apps section](https://www.reddit.com/prefs/apps/) and create a new app.\n",
    "\n",
    "![app creation image](https://i.imgur.com/REpuvlH.png)\n",
    "\n",
    "Set the following as the client ID and secret\n",
    "\n",
    "![client ID and secret indicated image](https://i.imgur.com/kqdoRvW.png)"
   ],
   "cell_type": "markdown",
   "metadata": {}
  },
  {
   "cell_type": "code",
   "execution_count": null,
   "metadata": {},
   "outputs": [],
   "source": [
    "client_id = input(\"Client ID\")"
   ]
  },
  {
   "cell_type": "code",
   "execution_count": null,
   "metadata": {},
   "outputs": [],
   "source": [
    "client_secret = input(\"Client Secret\")"
   ]
  },
  {
   "source": [
    "Then create a read-only instance of PRAW using these details:"
   ],
   "cell_type": "markdown",
   "metadata": {}
  },
  {
   "source": [
    "import praw\n",
    "\n",
    "reddit = praw.Reddit(\n",
    "    client_id=client_id,\n",
    "    client_secret=client_secret,\n",
    "    user_agent=\"reddit_wiki_ripper\"\n",
    ")"
   ],
   "cell_type": "code",
   "metadata": {},
   "execution_count": null,
   "outputs": []
  },
  {
   "source": [
    "Now input the subreddit you wish to grab the wiki from"
   ],
   "cell_type": "markdown",
   "metadata": {}
  },
  {
   "cell_type": "code",
   "execution_count": null,
   "metadata": {},
   "outputs": [],
   "source": [
    "subreddit = input(\"Please enter a subreddit\")"
   ]
  },
  {
   "source": [
    "Last step! Time to grab those wiki pages: "
   ],
   "cell_type": "markdown",
   "metadata": {}
  },
  {
   "cell_type": "code",
   "execution_count": null,
   "metadata": {
    "tags": []
   },
   "outputs": [],
   "source": [
    "import os\n",
    "import regex\n",
    "\n",
    "for wikipage in reddit.subreddit(subreddit).wiki:\n",
    "    # if the subreddit is nested\n",
    "    if wikipage.name.find('/') != -1:\n",
    "        dir = os.path.join(\"./\", wikipage.name[:wikipage.name.rindex('/')])\n",
    "        if not os.path.exists(dir):\n",
    "            os.makedirs(dir)\n",
    "    with open(\"{}.md\".format(os.path.join(\"./\", wikipage.name)), \"w\", encoding=\"utf-8\") as f:\n",
    "        # fix headings\n",
    "        formatted_wikipage = regex.sub(r'(?<=\\n#?)#(?=[^# ])', '# ', wikipage.content_md)\n",
    "        formatted_wikipage = formatted_wikipage.replace('https://www.reddit.com/r/{}/wiki/'.format(subreddit), './')\n",
    "        # replace links so they are to localhost rather than to reddit\n",
    "\n",
    "        f.write(formatted_wikipage)"
   ]
  }
 ]
}